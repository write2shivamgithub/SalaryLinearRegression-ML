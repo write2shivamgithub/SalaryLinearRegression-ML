{
 "cells": [
  {
   "cell_type": "markdown",
   "id": "8aab3692",
   "metadata": {},
   "source": [
    "## Import Library"
   ]
  },
  {
   "cell_type": "code",
   "execution_count": 77,
   "id": "6f442bd6",
   "metadata": {},
   "outputs": [],
   "source": [
    "import math\n",
    "import pandas as pd\n",
    "import seaborn as sns\n",
    "import matplotlib.pyplot as plt\n",
    "from sklearn.model_selection import train_test_split\n",
    "from sklearn.linear_model import LinearRegression\n",
    "from sklearn.metrics import mean_squared_error"
   ]
  },
  {
   "cell_type": "markdown",
   "id": "fc25a02a",
   "metadata": {},
   "source": [
    "## Import Dataset"
   ]
  },
  {
   "cell_type": "code",
   "execution_count": 78,
   "id": "3b452017",
   "metadata": {
    "scrolled": true
   },
   "outputs": [
    {
     "data": {
      "text/html": [
       "<div>\n",
       "<style scoped>\n",
       "    .dataframe tbody tr th:only-of-type {\n",
       "        vertical-align: middle;\n",
       "    }\n",
       "\n",
       "    .dataframe tbody tr th {\n",
       "        vertical-align: top;\n",
       "    }\n",
       "\n",
       "    .dataframe thead th {\n",
       "        text-align: right;\n",
       "    }\n",
       "</style>\n",
       "<table border=\"1\" class=\"dataframe\">\n",
       "  <thead>\n",
       "    <tr style=\"text-align: right;\">\n",
       "      <th></th>\n",
       "      <th>YearsExperience</th>\n",
       "      <th>Salary</th>\n",
       "    </tr>\n",
       "  </thead>\n",
       "  <tbody>\n",
       "    <tr>\n",
       "      <th>0</th>\n",
       "      <td>5.0</td>\n",
       "      <td>90000.0</td>\n",
       "    </tr>\n",
       "    <tr>\n",
       "      <th>1</th>\n",
       "      <td>3.0</td>\n",
       "      <td>65000.0</td>\n",
       "    </tr>\n",
       "    <tr>\n",
       "      <th>2</th>\n",
       "      <td>15.0</td>\n",
       "      <td>150000.0</td>\n",
       "    </tr>\n",
       "    <tr>\n",
       "      <th>3</th>\n",
       "      <td>7.0</td>\n",
       "      <td>60000.0</td>\n",
       "    </tr>\n",
       "    <tr>\n",
       "      <th>4</th>\n",
       "      <td>20.0</td>\n",
       "      <td>200000.0</td>\n",
       "    </tr>\n",
       "    <tr>\n",
       "      <th>...</th>\n",
       "      <td>...</td>\n",
       "      <td>...</td>\n",
       "    </tr>\n",
       "    <tr>\n",
       "      <th>370</th>\n",
       "      <td>8.0</td>\n",
       "      <td>85000.0</td>\n",
       "    </tr>\n",
       "    <tr>\n",
       "      <th>371</th>\n",
       "      <td>19.0</td>\n",
       "      <td>170000.0</td>\n",
       "    </tr>\n",
       "    <tr>\n",
       "      <th>372</th>\n",
       "      <td>2.0</td>\n",
       "      <td>40000.0</td>\n",
       "    </tr>\n",
       "    <tr>\n",
       "      <th>373</th>\n",
       "      <td>7.0</td>\n",
       "      <td>90000.0</td>\n",
       "    </tr>\n",
       "    <tr>\n",
       "      <th>374</th>\n",
       "      <td>15.0</td>\n",
       "      <td>150000.0</td>\n",
       "    </tr>\n",
       "  </tbody>\n",
       "</table>\n",
       "<p>375 rows × 2 columns</p>\n",
       "</div>"
      ],
      "text/plain": [
       "     YearsExperience    Salary\n",
       "0                5.0   90000.0\n",
       "1                3.0   65000.0\n",
       "2               15.0  150000.0\n",
       "3                7.0   60000.0\n",
       "4               20.0  200000.0\n",
       "..               ...       ...\n",
       "370              8.0   85000.0\n",
       "371             19.0  170000.0\n",
       "372              2.0   40000.0\n",
       "373              7.0   90000.0\n",
       "374             15.0  150000.0\n",
       "\n",
       "[375 rows x 2 columns]"
      ]
     },
     "execution_count": 78,
     "metadata": {},
     "output_type": "execute_result"
    }
   ],
   "source": [
    "df = pd.read_csv(r\"D:\\Data+Science@Consoleflare\\ML\\LD.csv\")\n",
    "df"
   ]
  },
  {
   "cell_type": "code",
   "execution_count": 79,
   "id": "4bca615b",
   "metadata": {},
   "outputs": [
    {
     "name": "stdout",
     "output_type": "stream",
     "text": [
      "YearsExperience    2\n",
      "Salary             2\n",
      "dtype: int64\n",
      "YearsExperience    0\n",
      "Salary             0\n",
      "dtype: int64\n"
     ]
    }
   ],
   "source": [
    "# Check for missing values\n",
    "missing_values = df.isnull().sum()\n",
    "print(missing_values)\n",
    "\n",
    "# If there are missing values, you can choose to drop them or fill them with appropriate values\n",
    "# To drop rows with missing values:\n",
    "df.dropna(inplace=True)\n",
    "\n",
    "# If you want to fill missing values with the mean of the column:\n",
    "# df.fillna(df.mean(), inplace=True)\n",
    "\n",
    "# Verify that there are no missing values left\n",
    "missing_values_after = df.isnull().sum()\n",
    "print(missing_values_after)\n"
   ]
  },
  {
   "cell_type": "markdown",
   "id": "5826a875",
   "metadata": {},
   "source": [
    "# Check Pattern"
   ]
  },
  {
   "cell_type": "code",
   "execution_count": 80,
   "id": "7b7cf38a",
   "metadata": {},
   "outputs": [
    {
     "data": {
      "image/png": "[encoded data removed]",
      "text/plain": [
       "<Figure size 600x600 with 3 Axes>"
      ]
     },
     "metadata": {},
     "output_type": "display_data"
    }
   ],
   "source": [
    "sns.jointplot(data = df, x = 'YearsExperience', y = 'Salary')\n",
    "plt.show()"
   ]
  },
  {
   "cell_type": "markdown",
   "id": "61671b8e",
   "metadata": {},
   "source": [
    "## Split in input and output"
   ]
  },
  {
   "cell_type": "code",
   "execution_count": 81,
   "id": "21f21164",
   "metadata": {
    "scrolled": true
   },
   "outputs": [
    {
     "name": "stdout",
     "output_type": "stream",
     "text": [
      "     YearsExperience\n",
      "345              4.0\n",
      "187              9.0\n",
      "27               1.0\n",
      "292              2.0\n",
      "73               2.0\n",
      "..               ...\n",
      "204              7.0\n",
      "256              6.0\n",
      "72              16.0\n",
      "236              9.0\n",
      "37              14.0\n",
      "\n",
      "[298 rows x 1 columns]\n",
      "*************\n",
      "     YearsExperience\n",
      "67               5.0\n",
      "348              1.0\n",
      "343             14.0\n",
      "295              4.0\n",
      "90              11.0\n",
      "..               ...\n",
      "78              20.0\n",
      "176             18.0\n",
      "269              9.0\n",
      "306             21.0\n",
      "82               0.0\n",
      "\n",
      "[75 rows x 1 columns]\n",
      "*************\n",
      "345     60000.0\n",
      "187    100000.0\n",
      "27      40000.0\n",
      "292     40000.0\n",
      "73      40000.0\n",
      "         ...   \n",
      "204     90000.0\n",
      "256    100000.0\n",
      "72     190000.0\n",
      "236    100000.0\n",
      "37     115000.0\n",
      "Name: Salary, Length: 298, dtype: float64\n",
      "*************\n",
      "67      45000.0\n",
      "348     35000.0\n",
      "343    150000.0\n",
      "295     60000.0\n",
      "90     120000.0\n",
      "         ...   \n",
      "78     180000.0\n",
      "176    140000.0\n",
      "269    110000.0\n",
      "306    180000.0\n",
      "82      30000.0\n",
      "Name: Salary, Length: 75, dtype: float64\n",
      "*************\n"
     ]
    }
   ],
   "source": [
    "X = df.drop(['Salary'],axis=1)\n",
    "y = df['Salary']\n",
    "X_train,X_test,y_train,y_test = train_test_split(X,y,test_size = 0.2,random_state = 1)\n",
    "print(X_train)\n",
    "print(\"*************\")\n",
    "print(X_test)\n",
    "print(\"*************\")\n",
    "print(y_train)\n",
    "print(\"*************\")\n",
    "print(y_test)\n",
    "print(\"*************\")"
   ]
  },
  {
   "cell_type": "code",
   "execution_count": 82,
   "id": "a45b208d",
   "metadata": {},
   "outputs": [
    {
     "name": "stdout",
     "output_type": "stream",
     "text": [
      "[ 67008.28710774  40029.59938427 127710.33448556  60263.61517687\n",
      " 107476.31869295  46774.27131514 154689.02220903 168178.36607077\n",
      " 100731.64676208  53518.943246    87242.30290035  46774.27131514\n",
      " 114220.99062382 134455.00641643  46774.27131514  46774.27131514\n",
      " 141199.6783473  114220.99062382 174923.03800164  53518.943246\n",
      " 114220.99062382  53518.943246   120965.66255469 141199.6783473\n",
      " 134455.00641643 168178.36607077  80497.63096948 161433.6941399\n",
      "  46774.27131514  67008.28710774 174923.03800164 141199.6783473\n",
      "  43401.9353497  168178.36607077  53518.943246   161433.6941399\n",
      " 147944.35027816  53518.943246   114220.99062382 134455.00641643\n",
      "  87242.30290035  53518.943246   114220.99062382 134455.00641643\n",
      "  80497.63096948 154689.02220903 120965.66255469  33284.9274534\n",
      " 141199.6783473  161433.6941399   53518.943246   120965.66255469\n",
      " 154689.02220903  53518.943246    53518.943246    93986.97483122\n",
      " 114220.99062382  80497.63096948  46774.27131514 141199.6783473\n",
      " 174923.03800164 100731.64676208  46774.27131514  53518.943246\n",
      " 127710.33448556 141199.6783473   53518.943246    73752.95903861\n",
      " 114220.99062382  46774.27131514 168178.36607077 154689.02220903\n",
      "  93986.97483122 174923.03800164  33284.9274534 ]\n",
      "67      45000.0\n",
      "348     35000.0\n",
      "343    150000.0\n",
      "295     60000.0\n",
      "90     120000.0\n",
      "         ...   \n",
      "78     180000.0\n",
      "176    140000.0\n",
      "269    110000.0\n",
      "306    180000.0\n",
      "82      30000.0\n",
      "Name: Salary, Length: 75, dtype: float64\n"
     ]
    }
   ],
   "source": [
    "\n",
    "linear = LinearRegression()\n",
    "linear.fit(X_train,y_train)\n",
    "y_predict = linear.predict(X_test)\n",
    "print(y_predict)\n",
    "print(y_test)"
   ]
  },
  {
   "cell_type": "code",
   "execution_count": 83,
   "id": "31d6b383",
   "metadata": {},
   "outputs": [
    {
     "name": "stdout",
     "output_type": "stream",
     "text": [
      "accuracy is ::\n",
      "16055.306017348616\n",
      "prediction is ::\n",
      "[168178.36607077]\n"
     ]
    },
    {
     "name": "stderr",
     "output_type": "stream",
     "text": [
      "C:\\Users\\LENOVO\\anaconda3\\lib\\site-packages\\sklearn\\base.py:450: UserWarning: X does not have valid feature names, but LinearRegression was fitted with feature names\n",
      "  warnings.warn(\n"
     ]
    }
   ],
   "source": [
    "accuracy = mean_squared_error(y_test,y_predict)\n",
    "print('accuracy is ::')\n",
    "print(math.sqrt(accuracy))\n",
    "print('prediction is ::')\n",
    "print(linear.predict([[20]]))"
   ]
  },
  {
   "cell_type": "code",
   "execution_count": null,
   "id": "e5599c00",
   "metadata": {},
   "outputs": [],
   "source": []
  }
 ],
 "metadata": {
  "kernelspec": {
   "display_name": "Python 3 (ipykernel)",
   "language": "python",
   "name": "python3"
  },
  "language_info": {
   "codemirror_mode": {
    "name": "ipython",
    "version": 3
   },
   "file_extension": ".py",
   "mimetype": "text/x-python",
   "name": "python",
   "nbconvert_exporter": "python",
   "pygments_lexer": "ipython3",
   "version": "3.9.13"
  }
 },
 "nbformat": 4,
 "nbformat_minor": 5
}
